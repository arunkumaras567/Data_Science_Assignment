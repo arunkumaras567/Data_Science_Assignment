{
 "cells": [
  {
   "cell_type": "markdown",
   "id": "185fc18f",
   "metadata": {},
   "source": [
    "# Assignment-1-Q20-(Basic statistics_level 1)"
   ]
  },
  {
   "cell_type": "code",
   "execution_count": 1,
   "id": "0d3c0a54",
   "metadata": {},
   "outputs": [],
   "source": [
    "import pandas as pd\n",
    "import numpy as np\n",
    "import seaborn as sns\n",
    "import matplotlib.pyplot as plt\n",
    "from scipy import stats "
   ]
  },
  {
   "cell_type": "code",
   "execution_count": 2,
   "id": "f86a0495",
   "metadata": {},
   "outputs": [],
   "source": [
    "q20=pd.read_csv(r'C:/Users/admin/OneDrive/Desktop/Cars.csv')"
   ]
  },
  {
   "cell_type": "code",
   "execution_count": 3,
   "id": "f7bf46fe",
   "metadata": {},
   "outputs": [
    {
     "data": {
      "text/html": [
       "<div>\n",
       "<style scoped>\n",
       "    .dataframe tbody tr th:only-of-type {\n",
       "        vertical-align: middle;\n",
       "    }\n",
       "\n",
       "    .dataframe tbody tr th {\n",
       "        vertical-align: top;\n",
       "    }\n",
       "\n",
       "    .dataframe thead th {\n",
       "        text-align: right;\n",
       "    }\n",
       "</style>\n",
       "<table border=\"1\" class=\"dataframe\">\n",
       "  <thead>\n",
       "    <tr style=\"text-align: right;\">\n",
       "      <th></th>\n",
       "      <th>HP</th>\n",
       "      <th>MPG</th>\n",
       "      <th>VOL</th>\n",
       "      <th>SP</th>\n",
       "      <th>WT</th>\n",
       "    </tr>\n",
       "  </thead>\n",
       "  <tbody>\n",
       "    <tr>\n",
       "      <th>0</th>\n",
       "      <td>49</td>\n",
       "      <td>53.700681</td>\n",
       "      <td>89</td>\n",
       "      <td>104.185353</td>\n",
       "      <td>28.762059</td>\n",
       "    </tr>\n",
       "    <tr>\n",
       "      <th>1</th>\n",
       "      <td>55</td>\n",
       "      <td>50.013401</td>\n",
       "      <td>92</td>\n",
       "      <td>105.461264</td>\n",
       "      <td>30.466833</td>\n",
       "    </tr>\n",
       "    <tr>\n",
       "      <th>2</th>\n",
       "      <td>55</td>\n",
       "      <td>50.013401</td>\n",
       "      <td>92</td>\n",
       "      <td>105.461264</td>\n",
       "      <td>30.193597</td>\n",
       "    </tr>\n",
       "    <tr>\n",
       "      <th>3</th>\n",
       "      <td>70</td>\n",
       "      <td>45.696322</td>\n",
       "      <td>92</td>\n",
       "      <td>113.461264</td>\n",
       "      <td>30.632114</td>\n",
       "    </tr>\n",
       "    <tr>\n",
       "      <th>4</th>\n",
       "      <td>53</td>\n",
       "      <td>50.504232</td>\n",
       "      <td>92</td>\n",
       "      <td>104.461264</td>\n",
       "      <td>29.889149</td>\n",
       "    </tr>\n",
       "    <tr>\n",
       "      <th>...</th>\n",
       "      <td>...</td>\n",
       "      <td>...</td>\n",
       "      <td>...</td>\n",
       "      <td>...</td>\n",
       "      <td>...</td>\n",
       "    </tr>\n",
       "    <tr>\n",
       "      <th>76</th>\n",
       "      <td>322</td>\n",
       "      <td>36.900000</td>\n",
       "      <td>50</td>\n",
       "      <td>169.598513</td>\n",
       "      <td>16.132947</td>\n",
       "    </tr>\n",
       "    <tr>\n",
       "      <th>77</th>\n",
       "      <td>238</td>\n",
       "      <td>19.197888</td>\n",
       "      <td>115</td>\n",
       "      <td>150.576579</td>\n",
       "      <td>37.923113</td>\n",
       "    </tr>\n",
       "    <tr>\n",
       "      <th>78</th>\n",
       "      <td>263</td>\n",
       "      <td>34.000000</td>\n",
       "      <td>50</td>\n",
       "      <td>151.598513</td>\n",
       "      <td>15.769625</td>\n",
       "    </tr>\n",
       "    <tr>\n",
       "      <th>79</th>\n",
       "      <td>295</td>\n",
       "      <td>19.833733</td>\n",
       "      <td>119</td>\n",
       "      <td>167.944460</td>\n",
       "      <td>39.423099</td>\n",
       "    </tr>\n",
       "    <tr>\n",
       "      <th>80</th>\n",
       "      <td>236</td>\n",
       "      <td>12.101263</td>\n",
       "      <td>107</td>\n",
       "      <td>139.840817</td>\n",
       "      <td>34.948615</td>\n",
       "    </tr>\n",
       "  </tbody>\n",
       "</table>\n",
       "<p>81 rows × 5 columns</p>\n",
       "</div>"
      ],
      "text/plain": [
       "     HP        MPG  VOL          SP         WT\n",
       "0    49  53.700681   89  104.185353  28.762059\n",
       "1    55  50.013401   92  105.461264  30.466833\n",
       "2    55  50.013401   92  105.461264  30.193597\n",
       "3    70  45.696322   92  113.461264  30.632114\n",
       "4    53  50.504232   92  104.461264  29.889149\n",
       "..  ...        ...  ...         ...        ...\n",
       "76  322  36.900000   50  169.598513  16.132947\n",
       "77  238  19.197888  115  150.576579  37.923113\n",
       "78  263  34.000000   50  151.598513  15.769625\n",
       "79  295  19.833733  119  167.944460  39.423099\n",
       "80  236  12.101263  107  139.840817  34.948615\n",
       "\n",
       "[81 rows x 5 columns]"
      ]
     },
     "execution_count": 3,
     "metadata": {},
     "output_type": "execute_result"
    }
   ],
   "source": [
    "q20"
   ]
  },
  {
   "cell_type": "code",
   "execution_count": 4,
   "id": "89edd9d5",
   "metadata": {},
   "outputs": [
    {
     "name": "stdout",
     "output_type": "stream",
     "text": [
      "P(MPG>38)= 0.348\n"
     ]
    }
   ],
   "source": [
    "#P(MPG>38)\n",
    "Prob_MPG_greater_than_38 = np.round( 1-stats.norm.cdf(38, loc= q20.MPG.mean(), scale= q20.MPG.std()),3) \n",
    "print('P(MPG>38)=',Prob_MPG_greater_than_38)"
   ]
  },
  {
   "cell_type": "code",
   "execution_count": 5,
   "id": "09487b88",
   "metadata": {},
   "outputs": [
    {
     "name": "stdout",
     "output_type": "stream",
     "text": [
      "P(MPG<40)= 0.729\n"
     ]
    }
   ],
   "source": [
    "#P(MPG<40)\n",
    "Prob_MPG_lessthan_40 = np.round(stats.norm.cdf(40, loc= q20.MPG.mean(), scale= q20.MPG.std()),3) \n",
    "print('P(MPG<40)=',Prob_MPG_lessthan_40)"
   ]
  },
  {
   "cell_type": "code",
   "execution_count": 45,
   "id": "c48d6a4e",
   "metadata": {},
   "outputs": [
    {
     "name": "stdout",
     "output_type": "stream",
     "text": [
      "p(20<MPG)= 0.943\n",
      "P(MPG<50)= 0.956\n",
      "P(20<MPG<50)= 0.8989999999999999\n"
     ]
    }
   ],
   "source": [
    "#P(20<MPG<50)\n",
    "prob_20_less_than_MPG = np.round(1-stats.norm.cdf(20, loc = q20.MPG.mean(), scale = q20.MPG.std()),3)\n",
    "print('p(20<MPG)=',(prob_20_less_than_MPG)) \n",
    "prob_MPG_less_than_50 = np.round(stats.norm.cdf(50, loc = q20.MPG.mean(), scale = q20.MPG.std()),3) \n",
    "print('P(MPG<50)=',(prob_MPG_less_than_50)) \n",
    "p=(1-0.943)+(1-0.956)\n",
    "prob_MPG_greaterthan20_and_lessthan50= 1-p\n",
    "print('P(20<MPG<50)=',(prob_MPG_greaterthan20_and_lessthan50)) "
   ]
  },
  {
   "cell_type": "code",
   "execution_count": 7,
   "id": "2dc13329",
   "metadata": {},
   "outputs": [
    {
     "data": {
      "text/plain": [
       "<Axes: ylabel='Density'>"
      ]
     },
     "execution_count": 7,
     "metadata": {},
     "output_type": "execute_result"
    },
    {
     "data": {
      "image/png": "[encoded data removed]",
      "text/plain": [
       "<Figure size 640x480 with 1 Axes>"
      ]
     },
     "metadata": {},
     "output_type": "display_data"
    }
   ],
   "source": [
    "q20['MPG'].plot.density()\n",
    "#q21 a) MPG of cars follows normal distribution"
   ]
  },
  {
   "cell_type": "code",
   "execution_count": 8,
   "id": "8eb427fa",
   "metadata": {},
   "outputs": [],
   "source": [
    "q21=pd.read_csv(r'C:/Users/admin/OneDrive/Desktop/wc-at.csv')"
   ]
  },
  {
   "cell_type": "code",
   "execution_count": 9,
   "id": "29354826",
   "metadata": {},
   "outputs": [
    {
     "data": {
      "text/html": [
       "<div>\n",
       "<style scoped>\n",
       "    .dataframe tbody tr th:only-of-type {\n",
       "        vertical-align: middle;\n",
       "    }\n",
       "\n",
       "    .dataframe tbody tr th {\n",
       "        vertical-align: top;\n",
       "    }\n",
       "\n",
       "    .dataframe thead th {\n",
       "        text-align: right;\n",
       "    }\n",
       "</style>\n",
       "<table border=\"1\" class=\"dataframe\">\n",
       "  <thead>\n",
       "    <tr style=\"text-align: right;\">\n",
       "      <th></th>\n",
       "      <th>Waist</th>\n",
       "      <th>AT</th>\n",
       "    </tr>\n",
       "  </thead>\n",
       "  <tbody>\n",
       "    <tr>\n",
       "      <th>0</th>\n",
       "      <td>74.75</td>\n",
       "      <td>25.72</td>\n",
       "    </tr>\n",
       "    <tr>\n",
       "      <th>1</th>\n",
       "      <td>72.60</td>\n",
       "      <td>25.89</td>\n",
       "    </tr>\n",
       "    <tr>\n",
       "      <th>2</th>\n",
       "      <td>81.80</td>\n",
       "      <td>42.60</td>\n",
       "    </tr>\n",
       "    <tr>\n",
       "      <th>3</th>\n",
       "      <td>83.95</td>\n",
       "      <td>42.80</td>\n",
       "    </tr>\n",
       "    <tr>\n",
       "      <th>4</th>\n",
       "      <td>74.65</td>\n",
       "      <td>29.84</td>\n",
       "    </tr>\n",
       "    <tr>\n",
       "      <th>...</th>\n",
       "      <td>...</td>\n",
       "      <td>...</td>\n",
       "    </tr>\n",
       "    <tr>\n",
       "      <th>104</th>\n",
       "      <td>100.10</td>\n",
       "      <td>124.00</td>\n",
       "    </tr>\n",
       "    <tr>\n",
       "      <th>105</th>\n",
       "      <td>93.30</td>\n",
       "      <td>62.20</td>\n",
       "    </tr>\n",
       "    <tr>\n",
       "      <th>106</th>\n",
       "      <td>101.80</td>\n",
       "      <td>133.00</td>\n",
       "    </tr>\n",
       "    <tr>\n",
       "      <th>107</th>\n",
       "      <td>107.90</td>\n",
       "      <td>208.00</td>\n",
       "    </tr>\n",
       "    <tr>\n",
       "      <th>108</th>\n",
       "      <td>108.50</td>\n",
       "      <td>208.00</td>\n",
       "    </tr>\n",
       "  </tbody>\n",
       "</table>\n",
       "<p>109 rows × 2 columns</p>\n",
       "</div>"
      ],
      "text/plain": [
       "      Waist      AT\n",
       "0     74.75   25.72\n",
       "1     72.60   25.89\n",
       "2     81.80   42.60\n",
       "3     83.95   42.80\n",
       "4     74.65   29.84\n",
       "..      ...     ...\n",
       "104  100.10  124.00\n",
       "105   93.30   62.20\n",
       "106  101.80  133.00\n",
       "107  107.90  208.00\n",
       "108  108.50  208.00\n",
       "\n",
       "[109 rows x 2 columns]"
      ]
     },
     "execution_count": 9,
     "metadata": {},
     "output_type": "execute_result"
    }
   ],
   "source": [
    "q21"
   ]
  },
  {
   "cell_type": "code",
   "execution_count": 10,
   "id": "92528dfd",
   "metadata": {},
   "outputs": [
    {
     "data": {
      "text/plain": [
       "<Axes: ylabel='Density'>"
      ]
     },
     "execution_count": 10,
     "metadata": {},
     "output_type": "execute_result"
    },
    {
     "data": {
      "image/png": "[encoded data removed]",
      "text/plain": [
       "<Figure size 640x480 with 1 Axes>"
      ]
     },
     "metadata": {},
     "output_type": "display_data"
    }
   ],
   "source": [
    "q21['Waist'].plot.density()"
   ]
  },
  {
   "cell_type": "code",
   "execution_count": 11,
   "id": "e77d87fe",
   "metadata": {},
   "outputs": [
    {
     "data": {
      "text/plain": [
       "<Axes: ylabel='Density'>"
      ]
     },
     "execution_count": 11,
     "metadata": {},
     "output_type": "execute_result"
    },
    {
     "data": {
      "image/png": "[encoded data removed]",
      "text/plain": [
       "<Figure size 640x480 with 1 Axes>"
      ]
     },
     "metadata": {},
     "output_type": "display_data"
    }
   ],
   "source": [
    "q21['AT'].plot.density()"
   ]
  },
  {
   "cell_type": "code",
   "execution_count": 12,
   "id": "5e88c711",
   "metadata": {},
   "outputs": [],
   "source": [
    "#q21 b)Ans: Adipose Tissue (AT) and Waist circumference(Waist) does not follow Normal Distribution"
   ]
  },
  {
   "cell_type": "code",
   "execution_count": null,
   "id": "cc476c44",
   "metadata": {},
   "outputs": [],
   "source": []
  },
  {
   "cell_type": "markdown",
   "id": "0d3c11c1",
   "metadata": {},
   "source": [
    "# Q22"
   ]
  },
  {
   "cell_type": "code",
   "execution_count": 13,
   "id": "c44557e0",
   "metadata": {},
   "outputs": [
    {
     "name": "stdout",
     "output_type": "stream",
     "text": [
      "Z score for 90% Conifidence Intervla = -1.6449\n"
     ]
    }
   ],
   "source": [
    "# ANS:\n",
    "# z value for 90% confidence interval\n",
    "print('Z score for 90% Conifidence Intervla =',\n",
    "      np.round(stats.norm.ppf(0.05),4))"
   ]
  },
  {
   "cell_type": "code",
   "execution_count": 14,
   "id": "34af40f6",
   "metadata": {},
   "outputs": [
    {
     "name": "stdout",
     "output_type": "stream",
     "text": [
      "Z score for 96% Conifidence Intervla = -1.8808\n"
     ]
    }
   ],
   "source": [
    "# z value for 96% confidence interval\n",
    "print('Z score for 96% Conifidence Intervla =',\n",
    "      np.round(stats.norm.ppf(0.03),4))"
   ]
  },
  {
   "cell_type": "code",
   "execution_count": 15,
   "id": "32250693",
   "metadata": {},
   "outputs": [
    {
     "name": "stdout",
     "output_type": "stream",
     "text": [
      "Z score for 60% Conifidence Intervla = -0.8416\n"
     ]
    }
   ],
   "source": [
    "# z value for 60% confidence interval\n",
    "print('Z score for 60% Conifidence Intervla =',\n",
    "      np.round(stats.norm.ppf(0.2),4))"
   ]
  },
  {
   "cell_type": "markdown",
   "id": "c5e5e61f",
   "metadata": {},
   "source": [
    "# Q23"
   ]
  },
  {
   "cell_type": "code",
   "execution_count": 16,
   "id": "a066e0a9",
   "metadata": {},
   "outputs": [
    {
     "name": "stdout",
     "output_type": "stream",
     "text": [
      "t score for 95% Conifidence Intervla = -2.0639\n"
     ]
    }
   ],
   "source": [
    "# ANS:\n",
    "# t value for 95% confidence interval\n",
    "print('t score for 95% Conifidence Intervla =',\n",
    "      np.round(stats.t.ppf(0.025,df=24),4))"
   ]
  },
  {
   "cell_type": "code",
   "execution_count": 17,
   "id": "19b2f6e4",
   "metadata": {},
   "outputs": [
    {
     "name": "stdout",
     "output_type": "stream",
     "text": [
      "t score for 96% Conifidence Intervla = -2.1715\n"
     ]
    }
   ],
   "source": [
    "# t value for 96% confidence interval\n",
    "print('t score for 96% Conifidence Intervla =',\n",
    "      np.round(stats.t.ppf(0.02,df=24),4))"
   ]
  },
  {
   "cell_type": "code",
   "execution_count": 18,
   "id": "4600365a",
   "metadata": {},
   "outputs": [
    {
     "name": "stdout",
     "output_type": "stream",
     "text": [
      "t score for 99% Conifidence Intervla = -2.7969\n"
     ]
    }
   ],
   "source": [
    "# t value for 99% confidence interval\n",
    "print('t score for 99% Conifidence Intervla =',\n",
    "      np.round(stats.t.ppf(0.005,df=24),4))"
   ]
  },
  {
   "cell_type": "markdown",
   "id": "3199c506",
   "metadata": {},
   "source": [
    "# Q24"
   ]
  },
  {
   "cell_type": "code",
   "execution_count": 19,
   "id": "4ec791c5",
   "metadata": {},
   "outputs": [
    {
     "name": "stdout",
     "output_type": "stream",
     "text": [
      "t_score= -0.4714045207910317\n"
     ]
    }
   ],
   "source": [
    "# ANS:\n",
    "#t_score = (x - pop mean) / (sample standard daviation / square root of sample size)\n",
    "t_score=(260-270)/(90/np.sqrt(18))\n",
    "print('t_score=',t_score)"
   ]
  },
  {
   "cell_type": "code",
   "execution_count": 20,
   "id": "24fea129",
   "metadata": {},
   "outputs": [
    {
     "name": "stdout",
     "output_type": "stream",
     "text": [
      "probability= 32.0\n"
     ]
    }
   ],
   "source": [
    "probability=np.round(stats.t.cdf(t_score,df=17),2)\n",
    "print('probability=',probability*100)"
   ]
  },
  {
   "cell_type": "code",
   "execution_count": 21,
   "id": "b947a036",
   "metadata": {},
   "outputs": [],
   "source": [
    "#Probability that 18 randomly selected bulbs would have an average life of no more than 260 days is 32%"
   ]
  },
  {
   "cell_type": "code",
   "execution_count": null,
   "id": "f190645d",
   "metadata": {},
   "outputs": [],
   "source": []
  }
 ],
 "metadata": {
  "kernelspec": {
   "display_name": "Python 3 (ipykernel)",
   "language": "python",
   "name": "python3"
  },
  "language_info": {
   "codemirror_mode": {
    "name": "ipython",
    "version": 3
   },
   "file_extension": ".py",
   "mimetype": "text/x-python",
   "name": "python",
   "nbconvert_exporter": "python",
   "pygments_lexer": "ipython3",
   "version": "3.10.9"
  }
 },
 "nbformat": 4,
 "nbformat_minor": 5
}

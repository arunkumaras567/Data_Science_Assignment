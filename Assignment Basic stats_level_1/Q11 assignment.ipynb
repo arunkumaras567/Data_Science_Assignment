{
 "cells": [
  {
   "cell_type": "markdown",
   "id": "ed44e446",
   "metadata": {},
   "source": [
    "# Assignment-1-Q11-(Basic statistics_level 1)"
   ]
  },
  {
   "cell_type": "code",
   "execution_count": 3,
   "id": "780cd45d",
   "metadata": {},
   "outputs": [],
   "source": [
    "import pandas as pd\n",
    "import numpy as np\n",
    "from scipy import stats\n",
    "from scipy.stats import norm"
   ]
  },
  {
   "cell_type": "code",
   "execution_count": 28,
   "id": "d1849eee",
   "metadata": {},
   "outputs": [
    {
     "name": "stdout",
     "output_type": "stream",
     "text": [
      "[198.74 201.26]\n"
     ]
    }
   ],
   "source": [
    "# avg. weight of Adult in Mexico with 94% CI\n",
    "conf_94=stats.t.interval(confidence=0.94,df=1999,loc=200,scale=30/np.sqrt(2000))\n",
    "print(np.round(conf_94,2))"
   ]
  },
  {
   "cell_type": "code",
   "execution_count": 34,
   "id": "b5c185b0",
   "metadata": {},
   "outputs": [
    {
     "name": "stdout",
     "output_type": "stream",
     "text": [
      "[198.62 201.38]\n"
     ]
    }
   ],
   "source": [
    "# avg. weight of Adult in mexico with 96% CI\n",
    "conf_96=stats.t.interval(confidence=0.96,df=1999,loc=200,scale=30/np.sqrt(2000))\n",
    "print(np.round(conf_96,2))"
   ]
  },
  {
   "cell_type": "code",
   "execution_count": 35,
   "id": "e42f5ad3",
   "metadata": {},
   "outputs": [
    {
     "name": "stdout",
     "output_type": "stream",
     "text": [
      "[198.44 201.56]\n"
     ]
    }
   ],
   "source": [
    "# avg. weight of Adult in mexico with 98% CI\n",
    "conf_98=stats.t.interval(confidence=0.98,df=1999,loc=200,scale=30/np.sqrt(2000))\n",
    "print(np.round(conf_98,2))"
   ]
  }
 ],
 "metadata": {
  "kernelspec": {
   "display_name": "Python 3 (ipykernel)",
   "language": "python",
   "name": "python3"
  },
  "language_info": {
   "codemirror_mode": {
    "name": "ipython",
    "version": 3
   },
   "file_extension": ".py",
   "mimetype": "text/x-python",
   "name": "python",
   "nbconvert_exporter": "python",
   "pygments_lexer": "ipython3",
   "version": "3.10.9"
  }
 },
 "nbformat": 4,
 "nbformat_minor": 5
}
